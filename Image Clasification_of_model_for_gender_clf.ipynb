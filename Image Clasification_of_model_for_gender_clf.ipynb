{
  "nbformat": 4,
  "nbformat_minor": 0,
  "metadata": {
    "colab": {
      "name": "COBA of model_for_gender_clf",
      "provenance": [],
      "collapsed_sections": [
        "0_8t22BQV7Pm"
      ]
    },
    "kernelspec": {
      "name": "python3",
      "display_name": "Python 3"
    },
    "language_info": {
      "name": "python"
    },
    "accelerator": "GPU"
  },
  "cells": [
    {
      "cell_type": "code",
      "metadata": {
        "id": "ak4jyKv0EuHq",
        "colab": {
          "base_uri": "https://localhost:8080/"
        },
        "outputId": "348759ee-d3f3-41f7-ed46-c14d558f9e7f"
      },
      "source": [
        "import os\n",
        "import shutil\n",
        "import pandas as pd\n",
        "import tensorflow as tf\n",
        "from tensorflow.keras.preprocessing.image import ImageDataGenerator\n",
        "import random\n",
        "!pip install tensorflow_addons\n",
        "import tensorflow_addons as tfa\n",
        "import cv2\n",
        "import numpy as np"
      ],
      "execution_count": null,
      "outputs": [
        {
          "output_type": "stream",
          "name": "stdout",
          "text": [
            "Requirement already satisfied: tensorflow_addons in /usr/local/lib/python3.7/dist-packages (0.14.0)\n",
            "Requirement already satisfied: typeguard>=2.7 in /usr/local/lib/python3.7/dist-packages (from tensorflow_addons) (2.7.1)\n"
          ]
        }
      ]
    },
    {
      "cell_type": "markdown",
      "metadata": {
        "id": "JfCZ2hdlWFtc"
      },
      "source": [
        "# model"
      ]
    },
    {
      "cell_type": "code",
      "metadata": {
        "id": "rNkwC3J4GTEL"
      },
      "source": [
        "src = '/content/drive/MyDrive/bdc 2021/Data/'\n",
        "dest = '/content/drive/MyDrive/bdc 2021/cleaned_data/'"
      ],
      "execution_count": null,
      "outputs": []
    },
    {
      "cell_type": "code",
      "metadata": {
        "id": "tc6AxyqWYVOc"
      },
      "source": [
        "train_dir = os.path.join(dest, 'train')\n",
        "test_dir = os.path.join(dest, 'test')\n",
        "batch_size = 16"
      ],
      "execution_count": null,
      "outputs": []
    },
    {
      "cell_type": "code",
      "metadata": {
        "id": "FnzB1aRBW0P7",
        "colab": {
          "base_uri": "https://localhost:8080/"
        },
        "outputId": "989b0af4-1377-41ab-f652-6fc68b7e02c5"
      },
      "source": [
        "train_datagen = ImageDataGenerator(\n",
        "    rescale = 1./255,\n",
        "    # rotation_range = 10,\n",
        "    # horizontal_flip = True,\n",
        "    # shear_range = 0.2,\n",
        "    # fill_mode = 'nearest'\n",
        ")\n",
        "\n",
        "test_datagen = ImageDataGenerator(\n",
        "    rescale = 1./255\n",
        ")\n",
        "\n",
        "\n",
        "#train_datagen = ImageDataGenerator(\n",
        "   # rescale = 1./255,\n",
        "   # rotation_range = 40,\n",
        "   # horizontal_flip = True,\n",
        "   # shear_range = 0.2,\n",
        "   # fill_mode = 'nearest',\n",
        "   # zoom_range = 0.3,\n",
        "   # width_shift_range = 0.2,\n",
        "   # height_shift_range = 0.2\n",
        "#)\n",
        "train_datagen = cv2.fastNlMeansDenoisingColored(np.array(ImageDataGenerator), None, 3,3,7,21)"
      ],
      "execution_count": null,
      "outputs": [
        {
          "output_type": "execute_result",
          "data": {
            "text/plain": [
              "keras.preprocessing.image.ImageDataGenerator"
            ]
          },
          "metadata": {},
          "execution_count": 12
        }
      ]
    },
    {
      "cell_type": "code",
      "metadata": {
        "id": "YI69iQF-Xg83",
        "colab": {
          "base_uri": "https://localhost:8080/"
        },
        "outputId": "16fd7264-488c-4afc-d0e5-ef81ab6403af"
      },
      "source": [
        "train_generator = train_datagen.flow_from_directory(\n",
        "    train_dir,\n",
        "    target_size = (150, 150),\n",
        "    batch_size = batch_size,\n",
        "    class_mode = 'binary'\n",
        ")\n",
        "\n",
        "test_generator = train_datagen.flow_from_directory(\n",
        "    test_dir,\n",
        "    target_size = (150, 150),\n",
        "    batch_size = 4,\n",
        "    class_mode = 'binary'\n",
        ")"
      ],
      "execution_count": null,
      "outputs": [
        {
          "output_type": "stream",
          "name": "stdout",
          "text": [
            "Found 2078 images belonging to 2 classes.\n",
            "Found 232 images belonging to 2 classes.\n"
          ]
        }
      ]
    },
    {
      "cell_type": "code",
      "metadata": {
        "colab": {
          "base_uri": "https://localhost:8080/"
        },
        "id": "naX6HFFA4dGV",
        "outputId": "32700178-d623-466c-ad2b-65098bab4404"
      },
      "source": [
        "from google.colab import drive\n",
        "drive.mount('/content/drive')"
      ],
      "execution_count": null,
      "outputs": [
        {
          "output_type": "stream",
          "name": "stdout",
          "text": [
            "Drive already mounted at /content/drive; to attempt to forcibly remount, call drive.mount(\"/content/drive\", force_remount=True).\n"
          ]
        }
      ]
    },
    {
      "cell_type": "code",
      "metadata": {
        "colab": {
          "base_uri": "https://localhost:8080/"
        },
        "id": "D_MdHcjPDhPt",
        "outputId": "107848ce-23d4-462d-bc54-03c84f26263e"
      },
      "source": [
        "train_generator.class_indices"
      ],
      "execution_count": null,
      "outputs": [
        {
          "output_type": "execute_result",
          "data": {
            "text/plain": [
              "{'0': 0, '1': 1}"
            ]
          },
          "metadata": {},
          "execution_count": 59
        }
      ]
    },
    {
      "cell_type": "code",
      "metadata": {
        "id": "el334YuhDyPY"
      },
      "source": [
        "model = tf.keras.models.Sequential([\n",
        "    tf.keras.layers.Conv2D(32, (3,3), activation='relu', input_shape=(150, 150, 3)),\n",
        "    tf.keras.layers.MaxPooling2D(2, 2),\n",
        "    tf.keras.layers.Conv2D(128, (3,3), activation='relu'),\n",
        "    tf.keras.layers.MaxPooling2D(2,2),\n",
        "    tf.keras.layers.Conv2D(128, (3,3), activation='relu'),\n",
        "    tf.keras.layers.MaxPooling2D(2,2),\n",
        "    tf.keras.layers.Conv2D(128, (3,3), activation='relu'),\n",
        "    tf.keras.layers.MaxPooling2D(2,2),\n",
        "    tf.keras.layers.Flatten(),\n",
        "    tf.keras.layers.Dense(512, activation='relu'),\n",
        "    tf.keras.layers.Dropout(0.4),\n",
        "    tf.keras.layers.Dense(128, activation='relu'),\n",
        "    tf.keras.layers.Dropout(0.4),\n",
        "    tf.keras.layers.Dense(1, activation='sigmoid')\n",
        "])"
      ],
      "execution_count": null,
      "outputs": []
    },
    {
      "cell_type": "code",
      "metadata": {
        "id": "sYk2rosvD7Sz"
      },
      "source": [
        "model.compile(loss='binary_crossentropy',\n",
        "              optimizer=tf.keras.optimizers.SGD(learning_rate=0.01),\n",
        "              metrics=['accuracy', tf.keras.metrics.Precision(), tf.keras.metrics.Recall(), tfa.metrics.F1Score(1)])"
      ],
      "execution_count": null,
      "outputs": []
    },
    {
      "cell_type": "code",
      "metadata": {
        "id": "_MhSbBL6EPNs"
      },
      "source": [
        "class myCallback(tf.keras.callbacks.Callback):\n",
        "  def on_epoch_end(self, epoch, logs={}):\n",
        "    if(logs.get('accuracy')>0.95):\n",
        "      print(\"\\nReached more than 96.0% accuracy so cancelling training!\")\n",
        "      self.model.stop_training = True\n",
        "\n",
        "callbacks = myCallback()"
      ],
      "execution_count": null,
      "outputs": []
    },
    {
      "cell_type": "code",
      "metadata": {
        "colab": {
          "base_uri": "https://localhost:8080/"
        },
        "id": "2B5gOwn4EWWV",
        "outputId": "a3579480-c6fa-4684-d323-a9af7b192a50"
      },
      "source": [
        "# latih model dengan model.fit \n",
        "model.fit(\n",
        "      train_generator,\n",
        "      steps_per_epoch = train_generator.samples / batch_size,  # berapa batch yang akan dieksekusi pada setiap epoch\n",
        "      epochs = 150, # tambahkan eposchs jika akurasi model belum optimal\n",
        "      validation_data = test_generator, # menampilkan akurasi pengujian data validasi\n",
        "      validation_steps = test_generator.samples / 4,  # berapa batch yang akan dieksekusi pada setiap epoch\n",
        "      verbose=2)"
      ],
      "execution_count": null,
      "outputs": [
        {
          "output_type": "stream",
          "name": "stdout",
          "text": [
            "Epoch 1/150\n",
            "129/129 - 72s - loss: 0.6252 - accuracy: 0.6492 - precision_4: 0.6044 - recall_4: 0.4719 - f1_score: 0.5907 - val_loss: 0.6520 - val_accuracy: 0.6034 - val_precision_4: 0.5200 - val_recall_4: 0.7959 - val_f1_score: 0.5939\n",
            "Epoch 2/150\n",
            "129/129 - 71s - loss: 0.6223 - accuracy: 0.6473 - precision_4: 0.5948 - recall_4: 0.4971 - f1_score: 0.5907 - val_loss: 0.6391 - val_accuracy: 0.6164 - val_precision_4: 0.6552 - val_recall_4: 0.1939 - val_f1_score: 0.5939\n",
            "Epoch 3/150\n",
            "129/129 - 72s - loss: 0.6228 - accuracy: 0.6526 - precision_4: 0.6054 - recall_4: 0.4914 - f1_score: 0.5907 - val_loss: 0.6212 - val_accuracy: 0.6638 - val_precision_4: 0.5962 - val_recall_4: 0.6327 - val_f1_score: 0.5939\n",
            "Epoch 4/150\n",
            "129/129 - 72s - loss: 0.6257 - accuracy: 0.6506 - precision_4: 0.5978 - recall_4: 0.5086 - f1_score: 0.5907 - val_loss: 0.6281 - val_accuracy: 0.6509 - val_precision_4: 0.5955 - val_recall_4: 0.5408 - val_f1_score: 0.5939\n",
            "Epoch 5/150\n",
            "129/129 - 72s - loss: 0.6232 - accuracy: 0.6444 - precision_4: 0.5914 - recall_4: 0.4902 - f1_score: 0.5907 - val_loss: 0.6439 - val_accuracy: 0.6207 - val_precision_4: 0.5342 - val_recall_4: 0.7959 - val_f1_score: 0.5939\n",
            "Epoch 6/150\n",
            "129/129 - 72s - loss: 0.6310 - accuracy: 0.6449 - precision_4: 0.5915 - recall_4: 0.4937 - f1_score: 0.5907 - val_loss: 0.6185 - val_accuracy: 0.6595 - val_precision_4: 0.5826 - val_recall_4: 0.6837 - val_f1_score: 0.5939\n",
            "Epoch 7/150\n",
            "129/129 - 72s - loss: 0.6204 - accuracy: 0.6554 - precision_4: 0.6066 - recall_4: 0.5063 - f1_score: 0.5907 - val_loss: 0.6246 - val_accuracy: 0.6336 - val_precision_4: 0.5714 - val_recall_4: 0.5306 - val_f1_score: 0.5939\n",
            "Epoch 8/150\n",
            "129/129 - 72s - loss: 0.6189 - accuracy: 0.6444 - precision_4: 0.5853 - recall_4: 0.5201 - f1_score: 0.5907 - val_loss: 0.6137 - val_accuracy: 0.6595 - val_precision_4: 0.6067 - val_recall_4: 0.5510 - val_f1_score: 0.5939\n",
            "Epoch 9/150\n",
            "129/129 - 73s - loss: 0.6226 - accuracy: 0.6482 - precision_4: 0.5956 - recall_4: 0.5006 - f1_score: 0.5907 - val_loss: 0.6236 - val_accuracy: 0.6379 - val_precision_4: 0.5875 - val_recall_4: 0.4796 - val_f1_score: 0.5939\n",
            "Epoch 10/150\n",
            "129/129 - 73s - loss: 0.6269 - accuracy: 0.6545 - precision_4: 0.6049 - recall_4: 0.5063 - f1_score: 0.5907 - val_loss: 0.6281 - val_accuracy: 0.6422 - val_precision_4: 0.5773 - val_recall_4: 0.5714 - val_f1_score: 0.5939\n",
            "Epoch 11/150\n",
            "129/129 - 73s - loss: 0.6219 - accuracy: 0.6477 - precision_4: 0.5961 - recall_4: 0.4948 - f1_score: 0.5907 - val_loss: 0.6172 - val_accuracy: 0.6897 - val_precision_4: 0.6300 - val_recall_4: 0.6429 - val_f1_score: 0.5939\n",
            "Epoch 12/150\n",
            "129/129 - 73s - loss: 0.6262 - accuracy: 0.6449 - precision_4: 0.5933 - recall_4: 0.4856 - f1_score: 0.5907 - val_loss: 0.6173 - val_accuracy: 0.6724 - val_precision_4: 0.5873 - val_recall_4: 0.7551 - val_f1_score: 0.5939\n",
            "Epoch 13/150\n",
            "129/129 - 72s - loss: 0.6202 - accuracy: 0.6492 - precision_4: 0.5947 - recall_4: 0.5121 - f1_score: 0.5907 - val_loss: 0.6377 - val_accuracy: 0.5905 - val_precision_4: 0.5101 - val_recall_4: 0.7755 - val_f1_score: 0.5939\n",
            "Epoch 14/150\n",
            "129/129 - 72s - loss: 0.6206 - accuracy: 0.6526 - precision_4: 0.5984 - recall_4: 0.5201 - f1_score: 0.5907 - val_loss: 0.6350 - val_accuracy: 0.6552 - val_precision_4: 0.5804 - val_recall_4: 0.6633 - val_f1_score: 0.5939\n",
            "Epoch 15/150\n",
            "129/129 - 72s - loss: 0.6243 - accuracy: 0.6434 - precision_4: 0.5876 - recall_4: 0.5006 - f1_score: 0.5907 - val_loss: 0.6245 - val_accuracy: 0.6724 - val_precision_4: 0.6146 - val_recall_4: 0.6020 - val_f1_score: 0.5939\n",
            "Epoch 16/150\n",
            "129/129 - 72s - loss: 0.6224 - accuracy: 0.6598 - precision_4: 0.6120 - recall_4: 0.5144 - f1_score: 0.5907 - val_loss: 0.6255 - val_accuracy: 0.6293 - val_precision_4: 0.5577 - val_recall_4: 0.5918 - val_f1_score: 0.5939\n",
            "Epoch 17/150\n",
            "129/129 - 72s - loss: 0.6252 - accuracy: 0.6333 - precision_4: 0.5737 - recall_4: 0.4868 - f1_score: 0.5907 - val_loss: 0.6320 - val_accuracy: 0.6207 - val_precision_4: 0.5379 - val_recall_4: 0.7245 - val_f1_score: 0.5939\n",
            "Epoch 18/150\n",
            "129/129 - 72s - loss: 0.6170 - accuracy: 0.6574 - precision_4: 0.6085 - recall_4: 0.5121 - f1_score: 0.5907 - val_loss: 0.6287 - val_accuracy: 0.6207 - val_precision_4: 0.5610 - val_recall_4: 0.4694 - val_f1_score: 0.5939\n",
            "Epoch 19/150\n",
            "129/129 - 72s - loss: 0.6138 - accuracy: 0.6593 - precision_4: 0.6159 - recall_4: 0.4971 - f1_score: 0.5907 - val_loss: 0.6304 - val_accuracy: 0.6379 - val_precision_4: 0.5854 - val_recall_4: 0.4898 - val_f1_score: 0.5939\n",
            "Epoch 20/150\n",
            "129/129 - 72s - loss: 0.6166 - accuracy: 0.6516 - precision_4: 0.6000 - recall_4: 0.5063 - f1_score: 0.5907 - val_loss: 0.6243 - val_accuracy: 0.6509 - val_precision_4: 0.6441 - val_recall_4: 0.3878 - val_f1_score: 0.5939\n",
            "Epoch 21/150\n",
            "129/129 - 72s - loss: 0.6129 - accuracy: 0.6636 - precision_4: 0.6132 - recall_4: 0.5350 - f1_score: 0.5907 - val_loss: 0.6432 - val_accuracy: 0.6121 - val_precision_4: 0.5299 - val_recall_4: 0.7245 - val_f1_score: 0.5939\n",
            "Epoch 22/150\n",
            "129/129 - 73s - loss: 0.6133 - accuracy: 0.6574 - precision_4: 0.6070 - recall_4: 0.5178 - f1_score: 0.5907 - val_loss: 0.6025 - val_accuracy: 0.6724 - val_precision_4: 0.6078 - val_recall_4: 0.6327 - val_f1_score: 0.5939\n",
            "Epoch 23/150\n",
            "129/129 - 74s - loss: 0.6161 - accuracy: 0.6559 - precision_4: 0.6046 - recall_4: 0.5178 - f1_score: 0.5907 - val_loss: 0.6205 - val_accuracy: 0.6595 - val_precision_4: 0.5872 - val_recall_4: 0.6531 - val_f1_score: 0.5939\n",
            "Epoch 24/150\n",
            "129/129 - 72s - loss: 0.6142 - accuracy: 0.6651 - precision_4: 0.6197 - recall_4: 0.5201 - f1_score: 0.5907 - val_loss: 0.6163 - val_accuracy: 0.6767 - val_precision_4: 0.5906 - val_recall_4: 0.7653 - val_f1_score: 0.5939\n",
            "Epoch 25/150\n",
            "129/129 - 72s - loss: 0.6191 - accuracy: 0.6603 - precision_4: 0.6126 - recall_4: 0.5155 - f1_score: 0.5907 - val_loss: 0.6133 - val_accuracy: 0.6767 - val_precision_4: 0.6533 - val_recall_4: 0.5000 - val_f1_score: 0.5939\n",
            "Epoch 26/150\n",
            "129/129 - 73s - loss: 0.6094 - accuracy: 0.6574 - precision_4: 0.6079 - recall_4: 0.5144 - f1_score: 0.5907 - val_loss: 0.6369 - val_accuracy: 0.6250 - val_precision_4: 0.6222 - val_recall_4: 0.2857 - val_f1_score: 0.5939\n",
            "Epoch 27/150\n",
            "129/129 - 73s - loss: 0.6106 - accuracy: 0.6646 - precision_4: 0.6182 - recall_4: 0.5224 - f1_score: 0.5907 - val_loss: 0.6219 - val_accuracy: 0.6379 - val_precision_4: 0.5673 - val_recall_4: 0.6020 - val_f1_score: 0.5939\n",
            "Epoch 28/150\n"
          ]
        }
      ]
    },
    {
      "cell_type": "code",
      "metadata": {
        "id": "y1vwaIzkEjAr"
      },
      "source": [
        "model.save('/content/drive/MyDrive/bdc 2021/model_v3.h5')"
      ],
      "execution_count": null,
      "outputs": []
    },
    {
      "cell_type": "markdown",
      "metadata": {
        "id": "KirPhmImANcR"
      },
      "source": [
        "# Prediction"
      ]
    },
    {
      "cell_type": "code",
      "metadata": {
        "id": "DCCZUSh2sjU1"
      },
      "source": [
        "import matplotlib.pyplot as plt\n",
        "from keras.preprocessing import image\n",
        "import numpy as np\n",
        "\n",
        "test_images = os.listdir(os.path.join(src, 'Testing'))\n",
        "pred = []\n",
        "\n",
        "for file in test_images:\n",
        "  path = os.path.join(src, 'Testing', file)\n",
        "  img = image.load_img(path, target_size=(150,150))\n",
        "# imgplot = plt.imshow(img)\n",
        "  x = image.img_to_array(img)\n",
        "  x = x/255.0\n",
        "  x = np.expand_dims(x, axis=0)\n",
        "\n",
        "  images = np.vstack([x])\n",
        "  classes = model(images).numpy()\n",
        "\n",
        "  if classes[0][0] > 0.5:\n",
        "    pred.append(1)\n",
        "  else:\n",
        "    pred.append(0)"
      ],
      "execution_count": null,
      "outputs": []
    },
    {
      "cell_type": "code",
      "metadata": {
        "id": "3pmA4EI-98zg"
      },
      "source": [
        "df_temp = pd.DataFrame({'id': test_images, 'jenis kelamin': pred})\n",
        "df_submission = pd.read_csv('/content/drive/MyDrive/bdc 2021/Data/submission.csv')\n",
        "\n",
        "df_temp['id'] = df_temp['id'].apply(lambda x: x[:-4])\n",
        "\n",
        "df_submission = df_submission.merge(df_temp, on='id', how='left')\n",
        "df_submission"
      ],
      "execution_count": null,
      "outputs": []
    },
    {
      "cell_type": "code",
      "metadata": {
        "id": "a4z_YbfTBuFW"
      },
      "source": [
        "df_submission.isnull().sum()"
      ],
      "execution_count": null,
      "outputs": []
    },
    {
      "cell_type": "code",
      "metadata": {
        "id": "i9zG-UERLZ2j"
      },
      "source": [
        "df_submission['jenis kelamin'].value_counts()"
      ],
      "execution_count": null,
      "outputs": []
    },
    {
      "cell_type": "code",
      "metadata": {
        "id": "lZ1mOuebCDfN"
      },
      "source": [
        "pd.DataFrame.to_csv(df_submission, '/content/drive/MyDrive/bdc 2021/submission_3.csv',index=False)"
      ],
      "execution_count": null,
      "outputs": []
    },
    {
      "cell_type": "markdown",
      "metadata": {
        "id": "arW9_234ARIk"
      },
      "source": [
        "# Evaluation"
      ]
    },
    {
      "cell_type": "code",
      "metadata": {
        "id": "47F2Ie6WCyJH"
      },
      "source": [
        "model =  tf.keras.models.load_model(\"/content/drive/MyDrive/bdc 2021/model_v2.h5\")"
      ],
      "execution_count": null,
      "outputs": []
    },
    {
      "cell_type": "code",
      "metadata": {
        "id": "kBM-kKNLBXz-"
      },
      "source": [
        "model.evaluate(test_generator)"
      ],
      "execution_count": null,
      "outputs": []
    },
    {
      "cell_type": "code",
      "metadata": {
        "id": "BbIVWlDiCHfZ"
      },
      "source": [
        "actual_label = pd.read_csv(\"/content/drive/MyDrive/bdc 2021/submission_labelled - Sheet1.csv\")\n",
        "predict_label = pd.read_csv(\"/content/drive/MyDrive/bdc 2021/submission_3.csv\")"
      ],
      "execution_count": null,
      "outputs": []
    },
    {
      "cell_type": "code",
      "metadata": {
        "id": "fE8GJY-tB6G0"
      },
      "source": [
        "actual_label.isnull().sum()"
      ],
      "execution_count": null,
      "outputs": []
    },
    {
      "cell_type": "code",
      "metadata": {
        "id": "-J3XeEmiB9lv"
      },
      "source": [
        "actual_label['label'].value_counts()"
      ],
      "execution_count": null,
      "outputs": []
    },
    {
      "cell_type": "code",
      "metadata": {
        "id": "4MFT_un3LzqD"
      },
      "source": [
        "predict_label['jenis kelamin'].value_counts()"
      ],
      "execution_count": null,
      "outputs": []
    },
    {
      "cell_type": "code",
      "metadata": {
        "id": "D00nOA3ACBYx"
      },
      "source": [
        "actual_label.fillna(1, inplace=True)"
      ],
      "execution_count": null,
      "outputs": []
    },
    {
      "cell_type": "code",
      "metadata": {
        "id": "-mf7DNMOCnI1"
      },
      "source": [
        "# checking whether or not id is equal\n",
        "for i in range(len(predict_label)):\n",
        "  if predict_label['id'][i] != actual_label['id'][i]:\n",
        "    print(i)"
      ],
      "execution_count": null,
      "outputs": []
    },
    {
      "cell_type": "code",
      "metadata": {
        "id": "-PG-A964Doks"
      },
      "source": [
        "from sklearn.metrics import confusion_matrix, classification_report\n",
        "print(classification_report(actual_label['label'].values, predict_label['jenis kelamin'].values))"
      ],
      "execution_count": null,
      "outputs": []
    },
    {
      "cell_type": "code",
      "metadata": {
        "id": "8RwL0TvGIyqh"
      },
      "source": [
        "print(classification_report(actual_label['label'].values, df_submission['jenis kelamin'].values))"
      ],
      "execution_count": null,
      "outputs": []
    }
  ]
}