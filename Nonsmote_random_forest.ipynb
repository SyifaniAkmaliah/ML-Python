{
  "nbformat": 4,
  "nbformat_minor": 0,
  "metadata": {
    "colab": {
      "name": "[Submitted] nonsmote random forest",
      "provenance": []
    },
    "kernelspec": {
      "name": "python3",
      "display_name": "Python 3"
    }
  },
  "cells": [
    {
      "cell_type": "code",
      "metadata": {
        "id": "U9aSNIOF9NlZ"
      },
      "source": [
        "import pandas as pd\n",
        "import numpy as np\n",
        "import matplotlib.pyplot as plt"
      ],
      "execution_count": null,
      "outputs": []
    },
    {
      "cell_type": "code",
      "metadata": {
        "id": "P79uqL0y9TdD",
        "colab": {
          "base_uri": "https://localhost:8080/",
          "height": 34
        },
        "outputId": "dbd9b503-0d70-45a6-8482-5c15c46ff93a"
      },
      "source": [
        "from google.colab import drive\n",
        "drive.mount('/content/drive')"
      ],
      "execution_count": null,
      "outputs": [
        {
          "output_type": "stream",
          "text": [
            "Mounted at /content/drive\n"
          ],
          "name": "stdout"
        }
      ]
    },
    {
      "cell_type": "code",
      "metadata": {
        "id": "e10sM59j9dIX"
      },
      "source": [
        "dataset=pd.read_csv(\"/content/drive/My Drive/DataLatihBDC_edited_3.csv\")\n",
        "dataset['judul']=dataset['judul'].astype(str)\n",
        "dataset['narasi']=dataset['narasi'].astype(str)"
      ],
      "execution_count": null,
      "outputs": []
    },
    {
      "cell_type": "code",
      "metadata": {
        "id": "9jjC9GrS9dy5"
      },
      "source": [
        "corpus = []\n",
        "for i in range(0,len(dataset)):\n",
        "    corpus.append(dataset.loc[i,'judul']+' '+dataset.loc[i,'narasi']) #ini ya ' '"
      ],
      "execution_count": null,
      "outputs": []
    },
    {
      "cell_type": "code",
      "metadata": {
        "id": "Hhoq-nkL9gVD"
      },
      "source": [
        "# Membuat model Bag of Words \n",
        "from sklearn.feature_extraction.text import CountVectorizer\n",
        "cv = CountVectorizer()\n",
        "X1 = cv.fit_transform(corpus)\n",
        "y1 = dataset.loc[:, 'label'].values\n",
        "newDataset = pd.DataFrame.sparse.from_spmatrix(X1,columns=cv.get_feature_names())\n",
        "newDataset['label'] = y1"
      ],
      "execution_count": null,
      "outputs": []
    },
    {
      "cell_type": "code",
      "metadata": {
        "id": "0D9h5oeK9plY",
        "colab": {
          "base_uri": "https://localhost:8080/",
          "height": 34
        },
        "outputId": "7aaa2f36-4d70-4bdf-fd15-f1a56320bbcb"
      },
      "source": [
        "#newDataset.to_csv(\"/content/drive/My Drive/datalatih(sebelum).csv\",index=False,header=True)\n",
        "print(newDataset.shape)"
      ],
      "execution_count": null,
      "outputs": [
        {
          "output_type": "stream",
          "text": [
            "(4231, 14188)\n"
          ],
          "name": "stdout"
        }
      ]
    },
    {
      "cell_type": "code",
      "metadata": {
        "id": "CWZobzPW9nH_"
      },
      "source": [
        "dataset_soal = pd.read_csv(\"/content/drive/My Drive/DataTestBDC_edited.csv\")\n",
        "dataset_soal['judul']=dataset_soal['judul'].astype(str)\n",
        "dataset_soal['narasi']=dataset_soal['narasi'].astype(str)"
      ],
      "execution_count": null,
      "outputs": []
    },
    {
      "cell_type": "code",
      "metadata": {
        "id": "6RjEbwuj9nnR"
      },
      "source": [
        "corpus_2 = []\n",
        "for i in range(0,len(dataset_soal)):\n",
        "    corpus_2.append(dataset_soal.loc[i,'judul']+' '+dataset_soal.loc[i,'narasi']) #ini ya ' '"
      ],
      "execution_count": null,
      "outputs": []
    },
    {
      "cell_type": "code",
      "metadata": {
        "id": "8rF4eAgR9pzY"
      },
      "source": [
        "# Membuat model Bag of Words\n",
        "X2 = cv.fit_transform(corpus_2)\n",
        "#N = dataset.loc[:, 'label'].values\n",
        "newDataset_soal = pd.DataFrame.sparse.from_spmatrix(X2, columns=cv.get_feature_names())\n",
        "#newDataset_2 ['label'] = N"
      ],
      "execution_count": null,
      "outputs": []
    },
    {
      "cell_type": "code",
      "metadata": {
        "id": "QGqChgCR9sUZ"
      },
      "source": [
        "newDataset = newDataset.filter([kata for kata in newDataset_soal.columns])\n",
        "newDataset_soal = newDataset_soal.filter([kata2 for kata2 in newDataset.columns])\n",
        "newDataset_soal.drop(columns=['label'],inplace=True)"
      ],
      "execution_count": null,
      "outputs": []
    },
    {
      "cell_type": "code",
      "metadata": {
        "id": "nC_UQ0nJ9Ksg"
      },
      "source": [
        "#newDataset.to_csv(\"/content/drive/My Drive/datalatih(sesudah).csv\",index=False,header=True)"
      ],
      "execution_count": null,
      "outputs": []
    },
    {
      "cell_type": "code",
      "metadata": {
        "id": "HilVFTmGB0js",
        "colab": {
          "base_uri": "https://localhost:8080/",
          "height": 52
        },
        "outputId": "7fd6aa72-d998-4a71-9ea9-a803fcd74a0e"
      },
      "source": [
        "\"\"\"a = pd.read_csv(\"/content/drive/My Drive/datalatih(sebelum).csv\")\n",
        "b = pd.read_csv(\"/content/drive/My Drive/datalatih(sesudah).csv\")\n",
        "print(a.shape)\n",
        "print(b.shape)\n",
        "\"\"\""
      ],
      "execution_count": null,
      "outputs": [
        {
          "output_type": "execute_result",
          "data": {
            "application/vnd.google.colaboratory.intrinsic+json": {
              "type": "string"
            },
            "text/plain": [
              "'a = pd.read_csv(\"/content/drive/My Drive/datalatih(sebelum).csv\")\\nb = pd.read_csv(\"/content/drive/My Drive/datalatih(sesudah).csv\")\\nprint(a.shape)\\nprint(b.shape)\\n'"
            ]
          },
          "metadata": {
            "tags": []
          },
          "execution_count": 12
        }
      ]
    },
    {
      "cell_type": "code",
      "metadata": {
        "id": "2jfF_DDf9uxo",
        "colab": {
          "base_uri": "https://localhost:8080/",
          "height": 221
        },
        "outputId": "2f05a6f0-2b22-4edf-bc70-3ec46b5fae96"
      },
      "source": [
        "print(newDataset.columns)\n",
        "print(newDataset_soal.columns)"
      ],
      "execution_count": null,
      "outputs": [
        {
          "output_type": "stream",
          "text": [
            "Index(['aaj', 'aamiin', 'abai', 'abal', 'abdul', 'abis', 'aborsi', 'about',\n",
            "       'abu', 'ac',\n",
            "       ...\n",
            "       'yusril', 'yuuu', 'yy', 'zaman', 'zat', 'zealand', 'zebra', 'zon',\n",
            "       'zona', 'zuckerberg'],\n",
            "      dtype='object', length=2862)\n",
            "Index(['aaj', 'aamiin', 'abai', 'abal', 'abdul', 'abis', 'aborsi', 'about',\n",
            "       'abu', 'ac',\n",
            "       ...\n",
            "       'yusril', 'yuuu', 'yy', 'zaman', 'zat', 'zealand', 'zebra', 'zon',\n",
            "       'zona', 'zuckerberg'],\n",
            "      dtype='object', length=2861)\n"
          ],
          "name": "stdout"
        }
      ]
    },
    {
      "cell_type": "code",
      "metadata": {
        "id": "fsXnJCmJ9xbl",
        "colab": {
          "base_uri": "https://localhost:8080/",
          "height": 105
        },
        "outputId": "9eaf3df3-2de6-4f14-d2f1-ca7b8c56657b"
      },
      "source": [
        "from imblearn.over_sampling import SMOTE\n",
        "# for reproducibility purposes\n",
        "seed = 1\n",
        "# SMOTE number of neighbors\n",
        "k = 5\n",
        "\n",
        "# make a new df made of all the columns, except the target class\n",
        "X_res = newDataset.loc[:, newDataset.columns != 'label']\n",
        "y_res = newDataset.label\n",
        "#sm = SMOTE(k_neighbors=k, random_state=seed)\n",
        "#X_res, y_res = sm.fit_resample(X, y)\n",
        "\n",
        "newDataset_res = pd.concat([pd.DataFrame(X_res), pd.DataFrame(y_res)], axis=1)\n",
        "newDataset_res.columns = [i for i in range(0,2862)]\n",
        "newDataset_res.rename(columns={ newDataset_res.columns[-1]: \"label\" }, inplace = True)"
      ],
      "execution_count": null,
      "outputs": [
        {
          "output_type": "stream",
          "text": [
            "/usr/local/lib/python3.6/dist-packages/sklearn/externals/six.py:31: FutureWarning: The module is deprecated in version 0.21 and will be removed in version 0.23 since we've dropped support for Python 2.7. Please rely on the official version of six (https://pypi.org/project/six/).\n",
            "  \"(https://pypi.org/project/six/).\", FutureWarning)\n",
            "/usr/local/lib/python3.6/dist-packages/sklearn/utils/deprecation.py:144: FutureWarning: The sklearn.neighbors.base module is  deprecated in version 0.22 and will be removed in version 0.24. The corresponding classes / functions should instead be imported from sklearn.neighbors. Anything that cannot be imported from sklearn.neighbors is now part of the private API.\n",
            "  warnings.warn(message, FutureWarning)\n"
          ],
          "name": "stderr"
        }
      ]
    },
    {
      "cell_type": "code",
      "metadata": {
        "id": "A_6_Tm70-ZdH",
        "colab": {
          "base_uri": "https://localhost:8080/",
          "height": 85
        },
        "outputId": "0abeb872-cdea-42b1-fa00-7686499fc4b6"
      },
      "source": [
        "newDataset_soal.columns = [i for i in range(0,2861)]\n",
        "newDataset_soal.columns"
      ],
      "execution_count": null,
      "outputs": [
        {
          "output_type": "execute_result",
          "data": {
            "text/plain": [
              "Int64Index([   0,    1,    2,    3,    4,    5,    6,    7,    8,    9,\n",
              "            ...\n",
              "            2851, 2852, 2853, 2854, 2855, 2856, 2857, 2858, 2859, 2860],\n",
              "           dtype='int64', length=2861)"
            ]
          },
          "metadata": {
            "tags": []
          },
          "execution_count": 12
        }
      ]
    },
    {
      "cell_type": "code",
      "metadata": {
        "id": "x0jQ0k43-c8T"
      },
      "source": [
        "# Membagi dataset ke dalam Training dan Test set\n",
        "from sklearn.model_selection import train_test_split\n",
        "X_train, X_test, y_train, y_test = train_test_split(X_res, y_res, test_size = 0.2, random_state = 0)"
      ],
      "execution_count": null,
      "outputs": []
    },
    {
      "cell_type": "code",
      "metadata": {
        "id": "SW7CuM9N-hUe",
        "colab": {
          "base_uri": "https://localhost:8080/",
          "height": 170
        },
        "outputId": "ec9b7c4f-8061-429f-b007-db0d6d49a4c4"
      },
      "source": [
        "# Membuat model Random Forest Classification terhadap Training set\n",
        "from sklearn.ensemble import RandomForestClassifier\n",
        "classifierRF = RandomForestClassifier(n_estimators = 500, criterion = 'entropy', random_state = 0)\n",
        "classifierRF.fit(X_train, y_train)\n",
        "\n",
        "# Memprediksi hasil test set\n",
        "y_pred_RF = classifierRF.predict(X_test)\n",
        "\n",
        "# Membuat confusion matrix\n",
        "#from sklearn.metrics import confusion_matrix\n",
        "#cm_RF = confusion_matrix(y_test, y_pred_RF)\n",
        "\n",
        "from sklearn.metrics import classification_report\n",
        "print (classification_report(y_test, y_pred_RF))"
      ],
      "execution_count": null,
      "outputs": [
        {
          "output_type": "stream",
          "text": [
            "              precision    recall  f1-score   support\n",
            "\n",
            "           0       0.80      0.33      0.47       159\n",
            "           1       0.86      0.98      0.92       688\n",
            "\n",
            "    accuracy                           0.86       847\n",
            "   macro avg       0.83      0.66      0.70       847\n",
            "weighted avg       0.85      0.86      0.83       847\n",
            "\n"
          ],
          "name": "stdout"
        }
      ]
    },
    {
      "cell_type": "code",
      "metadata": {
        "id": "4EdrfSmz-kr8",
        "colab": {
          "base_uri": "https://localhost:8080/",
          "height": 391
        },
        "outputId": "20ff771f-52dc-44aa-c4ac-8173a720f55d"
      },
      "source": [
        "y_pred_soal = classifierRF.predict(newDataset_soal)\n",
        "y_pred_soal"
      ],
      "execution_count": null,
      "outputs": [
        {
          "output_type": "execute_result",
          "data": {
            "text/plain": [
              "array([1, 1, 1, 1, 1, 1, 1, 0, 1, 1, 1, 1, 1, 1, 1, 1, 1, 0, 1, 1, 1, 1,\n",
              "       1, 1, 0, 1, 1, 1, 1, 1, 1, 1, 1, 1, 1, 1, 1, 1, 1, 1, 1, 1, 1, 1,\n",
              "       1, 1, 1, 1, 1, 1, 1, 1, 1, 0, 1, 1, 1, 1, 1, 1, 1, 1, 1, 1, 1, 1,\n",
              "       0, 1, 1, 1, 1, 1, 1, 1, 1, 1, 1, 1, 1, 1, 1, 1, 1, 1, 1, 1, 1, 1,\n",
              "       1, 1, 1, 1, 1, 1, 1, 1, 0, 1, 1, 1, 1, 1, 1, 0, 1, 1, 1, 1, 1, 1,\n",
              "       1, 1, 1, 1, 1, 1, 1, 1, 1, 1, 1, 1, 1, 1, 1, 1, 0, 1, 1, 1, 1, 1,\n",
              "       1, 1, 1, 1, 1, 1, 1, 1, 1, 1, 1, 1, 1, 1, 1, 1, 1, 1, 1, 1, 1, 1,\n",
              "       0, 1, 1, 1, 1, 1, 1, 1, 1, 1, 1, 0, 1, 1, 1, 1, 1, 1, 0, 1, 1, 1,\n",
              "       1, 1, 1, 1, 1, 1, 1, 1, 1, 1, 1, 1, 0, 1, 1, 1, 0, 1, 1, 1, 1, 1,\n",
              "       1, 1, 1, 0, 1, 1, 1, 1, 1, 0, 1, 1, 1, 1, 0, 1, 1, 1, 1, 1, 1, 1,\n",
              "       1, 1, 1, 1, 1, 1, 1, 1, 0, 0, 1, 1, 1, 0, 1, 1, 1, 1, 1, 1, 0, 1,\n",
              "       0, 1, 1, 1, 1, 1, 1, 1, 1, 1, 1, 1, 1, 1, 1, 1, 1, 1, 1, 1, 1, 1,\n",
              "       1, 1, 1, 1, 1, 1, 1, 0, 1, 1, 1, 1, 1, 1, 1, 1, 1, 1, 1, 0, 1, 1,\n",
              "       1, 1, 1, 1, 1, 1, 0, 1, 1, 1, 1, 1, 0, 1, 1, 1, 1, 1, 1, 1, 1, 1,\n",
              "       1, 1, 1, 1, 1, 1, 1, 1, 1, 1, 1, 1, 0, 1, 1, 1, 1, 1, 1, 0, 1, 1,\n",
              "       0, 1, 1, 1, 1, 1, 1, 0, 0, 1, 1, 1, 1, 1, 1, 1, 1, 1, 1, 1, 1, 0,\n",
              "       1, 1, 1, 1, 1, 1, 1, 1, 1, 1, 1, 1, 1, 1, 1, 1, 1, 1, 0, 1, 1, 1,\n",
              "       1, 1, 1, 1, 1, 1, 1, 1, 1, 1, 1, 1, 1, 1, 1, 1, 0, 1, 1, 1, 1, 1,\n",
              "       1, 1, 1, 1, 1, 1, 1, 1, 1, 1, 1, 0, 1, 0, 1, 1, 1, 1, 1, 1, 1, 1,\n",
              "       1, 1, 1, 1, 1, 1, 1, 1, 1, 1, 1, 1, 1, 1, 0, 1, 1, 1, 1, 1, 1, 0,\n",
              "       1, 1, 1, 1, 0, 1, 1, 0, 1, 0, 1, 1, 1, 1, 1, 1, 1, 0, 1, 1, 1, 1,\n",
              "       1, 1, 1, 1, 1, 1, 0, 1])"
            ]
          },
          "metadata": {
            "tags": []
          },
          "execution_count": 17
        }
      ]
    },
    {
      "cell_type": "code",
      "metadata": {
        "id": "UeIvN7_8-0Vt"
      },
      "source": [
        "data_test_kotor = pd.read_csv(\"/content/drive/My Drive/DataUjiBDC.tsv\",sep='\\t')"
      ],
      "execution_count": null,
      "outputs": []
    },
    {
      "cell_type": "code",
      "metadata": {
        "id": "dUnIVwOy-1OE"
      },
      "source": [
        "y_pred_soal_csv = pd.concat([data_test_kotor['ID'],pd.DataFrame(y_pred_soal)],axis=1)\n",
        "y_pred_soal_csv.columns = ['ID','prediksi']"
      ],
      "execution_count": null,
      "outputs": []
    },
    {
      "cell_type": "code",
      "metadata": {
        "id": "L9YCAnJl-3ve",
        "colab": {
          "base_uri": "https://localhost:8080/",
          "height": 272
        },
        "outputId": "f091d42a-1a57-4a44-bacb-68f6a78ff55d"
      },
      "source": [
        "print(y_pred_soal_csv.head(10))\n",
        "print(y_pred_soal_csv['prediksi'].value_counts())\n",
        "print(y_pred_soal_csv.shape)"
      ],
      "execution_count": null,
      "outputs": [
        {
          "output_type": "stream",
          "text": [
            "       ID  prediksi\n",
            "0  238057         1\n",
            "1  238158         1\n",
            "2  238865         1\n",
            "3  248298         1\n",
            "4  255176         1\n",
            "5  267051         1\n",
            "6  269336         1\n",
            "7  272438         0\n",
            "8  282152         1\n",
            "9  288490         1\n",
            "1    428\n",
            "0     42\n",
            "Name: prediksi, dtype: int64\n",
            "(470, 2)\n"
          ],
          "name": "stdout"
        }
      ]
    },
    {
      "cell_type": "code",
      "metadata": {
        "id": "8b6qi-In-51b"
      },
      "source": [
        "cek_hasil = pd.read_csv(\"/content/drive/My Drive/Datatest.tsv\",sep='\\t')\n",
        "cek_hasil = cek_hasil.drop(columns = ['tanggal','nama file gambar','judul','narasi'])"
      ],
      "execution_count": null,
      "outputs": []
    },
    {
      "cell_type": "code",
      "metadata": {
        "id": "gYoqKv4e-9jR",
        "colab": {
          "base_uri": "https://localhost:8080/",
          "height": 170
        },
        "outputId": "dcfdb10d-03fd-464a-cbd0-86ff57659cff"
      },
      "source": [
        "from sklearn.metrics import classification_report\n",
        "print (classification_report(cek_hasil['newlabel'], y_pred_soal_csv['prediksi']))"
      ],
      "execution_count": null,
      "outputs": [
        {
          "output_type": "stream",
          "text": [
            "              precision    recall  f1-score   support\n",
            "\n",
            "           0       0.57      0.37      0.45        65\n",
            "           1       0.90      0.96      0.93       405\n",
            "\n",
            "    accuracy                           0.87       470\n",
            "   macro avg       0.74      0.66      0.69       470\n",
            "weighted avg       0.86      0.87      0.86       470\n",
            "\n"
          ],
          "name": "stdout"
        }
      ]
    },
    {
      "cell_type": "code",
      "metadata": {
        "id": "hlpadjcG_Ed-",
        "colab": {
          "base_uri": "https://localhost:8080/",
          "height": 51
        },
        "outputId": "68306c8f-6307-4d22-9bf2-ea17bb697409"
      },
      "source": [
        "from sklearn.metrics import confusion_matrix\n",
        "cm_RF = confusion_matrix(cek_hasil['label'], y_pred_soal_csv['prediksi'])\n",
        "cm_RF"
      ],
      "execution_count": null,
      "outputs": [
        {
          "output_type": "execute_result",
          "data": {
            "text/plain": [
              "array([[ 26,  39],\n",
              "       [ 16, 389]])"
            ]
          },
          "metadata": {
            "tags": []
          },
          "execution_count": 24
        }
      ]
    },
    {
      "cell_type": "code",
      "metadata": {
        "id": "p9zxDFYt_TZR",
        "colab": {
          "base_uri": "https://localhost:8080/",
          "height": 34
        },
        "outputId": "2b1a005b-2899-4f62-f774-83e430de3166"
      },
      "source": [
        "precision = cm_RF[1][1]/(cm_RF[1][1]+cm_RF[1][0])\n",
        "recall = cm_RF[1][1]/(cm_RF[1][1]+cm_RF[0][1])\n",
        "f1 = 2*recall*precision/(recall+precision)\n",
        "f1"
      ],
      "execution_count": null,
      "outputs": [
        {
          "output_type": "execute_result",
          "data": {
            "text/plain": [
              "0.9339735894357744"
            ]
          },
          "metadata": {
            "tags": []
          },
          "execution_count": 25
        }
      ]
    },
    {
      "cell_type": "code",
      "metadata": {
        "id": "jzvM4n-o_Xh-"
      },
      "source": [
        "#y_pred_soal_csv.to_csv(\"/content/drive/My Drive/HasilPrediksi.csv\",index=False,header=True)"
      ],
      "execution_count": null,
      "outputs": []
    },
    {
      "cell_type": "code",
      "metadata": {
        "id": "HA0Lft4c7O0z",
        "colab": {
          "base_uri": "https://localhost:8080/",
          "height": 51
        },
        "outputId": "981a8335-0e97-4d20-ec34-147891ba39a4"
      },
      "source": [
        "sama = 0\n",
        "beda = 0\n",
        "for i in range(0,len(cek_hasil)):\n",
        "  if (cek_hasil['label'][i] == y_pred_soal_csv['prediksi'][i]) :\n",
        "    sama+=1\n",
        "  else :\n",
        "    beda+=1\n",
        "print(\"yang bener : \",sama, \" (\",sama/len(cek_hasil)*100, \"%)\")\n",
        "print(\"yang salah : \",beda, \" (\",beda/len(cek_hasil)*100, \"%)\")"
      ],
      "execution_count": null,
      "outputs": [
        {
          "output_type": "stream",
          "text": [
            "yang bener :  415  ( 88.29787234042553 %)\n",
            "yang salah :  55  ( 11.702127659574469 %)\n"
          ],
          "name": "stdout"
        }
      ]
    }
  ]
}